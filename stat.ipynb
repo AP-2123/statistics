{
 "cells": [
  {
   "cell_type": "code",
   "execution_count": 1,
   "id": "8e6f5c5c",
   "metadata": {},
   "outputs": [],
   "source": [
    "import pandas as pd\n",
    "import matplotlib.pyplot as plt\n",
    "import seaborn as sns\n",
    "import numpy as np\n",
    "from scipy import stats\n",
    "from scipy.stats import pearsonr,wilcoxon,shapiro,kstest,norm,levene,f_oneway,ks_2samp"
   ]
  },
  {
   "cell_type": "markdown",
   "id": "07edb23f",
   "metadata": {},
   "source": [
    "### 1) A university wants to understand the relationship between the SAT scores of its applicants and their college GPA. They collect data on 500 students, including their SAT scores (out of 1600) and their college GPA (on a 4.0 scale). They find that the correlation coefficient between SAT scores and college GPA is 0.7. What does this correlation coefficient indicate about the relationship between SAT scores and college GPA?"
   ]
  },
  {
   "cell_type": "markdown",
   "id": "82f25035",
   "metadata": {},
   "source": [
    "Answer-\n",
    "\n",
    "- A correlation coefficient of 0.7 indicates a strong positive relationship between SAT scores and college GPA. The correlation coefficient ranges from -1 to 1, where a value of 1 indicates a perfect positive correlation, 0 indicates no correlation, and -1 indicates a perfect negative correlation.\n",
    "\n",
    "- In this case, a correlation coefficient of 0.7 suggests that there is a strong tendency for students with higher SAT scores to also have higher college GPAs, and vice versa. The positive sign indicates that as SAT scores increase, college GPA tends to increase as well. However, it is important to note that correlation does not imply causation, meaning that while there is a strong association between SAT scores and college GPA, it does not necessarily mean that higher SAT scores directly cause higher GPAs. Other factors could also be influencing the relationship.\n"
   ]
  },
  {
   "cell_type": "markdown",
   "id": "914969ca",
   "metadata": {},
   "source": [
    "### 2)  Consider a dataset containing the heights (in centimeters) of 1000 individuals. The mean height is   170 cm with a standard deviation of 10 cm. The dataset is approximately normally distributed, and its skewness is approximately zero. Based on this information, answer the following questions:\n",
    "\n",
    "a. What percentage of individuals in the dataset have heights between 160 cm and 180 cm?\n",
    "\n",
    "b. If we randomly select 100 individuals from the dataset, what is the probability that their average height is greater than 175 cm?\n",
    "\n",
    "c. Assuming the dataset follows a normal distribution, what is the z-score corresponding to a height of 185 cm?\n",
    "\n",
    "d. We know that 5% of the dataset has heights below a certain value. What is the approximate height corresponding to this threshold?\n",
    "\n",
    "e. Calculate the coefficient of variation (CV) for the dataset.\n",
    "\n",
    "f. Calculate the skewness of the dataset and interpret the result.\n"
   ]
  },
  {
   "cell_type": "markdown",
   "id": "3b6b542f",
   "metadata": {},
   "source": [
    "#### a. What percentage of individuals in the dataset have heights between 160 cm and 180 cm?"
   ]
  },
  {
   "cell_type": "markdown",
   "id": "468eb49a",
   "metadata": {},
   "source": [
    "Given - n = 1000, µ = 170, σ = 10\n",
    "\n",
    "To determine the percentage of individuals with heights between 160 cm and 180 cm, we need to calculate the area under the normal distribution curve between these two values.\n",
    "\n",
    "First, we calculate the z-scores for each height using the formula:\n",
    "\n",
    "                z = (x - μ) / σ\n",
    "\n",
    "                where    x : height,\n",
    "                         μ : mean, \n",
    "                         σ : standard deviation.\n",
    "\n",
    "                For 160 cm:\n",
    "                z1 = (160 - 170) / 10 = -1\n",
    "\n",
    "                For 180 cm:\n",
    "                z2 = (180 - 170) / 10 = 1\n",
    "\n",
    "Next, we can use a standard normal distribution table or a statistical calculator to find the area between these two z-scores. The area under the curve represents the percentage of individuals within this range.\n",
    "\n",
    "Using the table or calculator, we find that the area to the left of z = -1 is approximately 0.1587, and the area to the left of z = 1 is approximately 0.8413.\n",
    "\n",
    "To find the area between these two z-scores, we subtract the smaller area from the larger area:\n",
    "\n",
    "                Area = 0.8413 - 0.1587 = 0.6826\n",
    "\n",
    "Therefore, approximately 68.26% of individuals in the dataset have heights between 160 cm and 180 cm.\n"
   ]
  },
  {
   "cell_type": "markdown",
   "id": "973bdb34",
   "metadata": {},
   "source": [
    "#### b. If we randomly select 100 individuals from the dataset, what is the probability that their average height is greater than 175 cm?"
   ]
  },
  {
   "cell_type": "markdown",
   "id": "bf6dc8c1",
   "metadata": {},
   "source": [
    "If we randomly select 100 individuals from the dataset, the sample mean height would still be normally distributed with a mean of 170 cm (same as the population mean) but with a smaller standard deviation. The standard deviation of the sample mean, also known as the standard error, can be calculated by dividing the population standard deviation by the square root of the sample size. In this case, the standard error would be 10 cm / sqrt(100) = 1 cm.\n",
    "\n",
    "To find the probability that the average height of the randomly selected 100 individuals is greater than 175 cm, we can calculate the z-score of 175 cm using the formula: z = (x - μ) / σ, where x is the height, μ is the mean, and σ is the standard error.\n",
    "\n",
    "                z = (175 - 170) / 1 = 5 / 1 = 5\n",
    "\n",
    "We can then look up the probability corresponding to a z-score of 5 in the standard normal distribution table or use a statistical calculator. The probability is nearly 1 (or 100%).\n",
    "\n",
    "Therefore, the probability that the average height of the randomly selected 100 individuals is greater than 175 cm is approximately 100%.\n"
   ]
  },
  {
   "cell_type": "markdown",
   "id": "e1369f1b",
   "metadata": {},
   "source": [
    "#### c. Assuming the dataset follows a normal distribution, what is the z-score corresponding to a height of 185 cm?"
   ]
  },
  {
   "cell_type": "markdown",
   "id": "494836cc",
   "metadata": {},
   "source": [
    "To calculate the z-score corresponding to a height of 185 cm, we use the same formula as in part b:\n",
    "\n",
    "                z = (x - μ) / σ\n",
    "\n",
    "                z = (185 - 170) / 10 = 15 / 10 = 1.5\n",
    "\n",
    "Therefore, the z-score corresponding to a height of 185 cm is 1.5.\n"
   ]
  },
  {
   "cell_type": "markdown",
   "id": "6a7e591f",
   "metadata": {},
   "source": [
    "#### d. We know that 5% of the dataset has heights below a certain value. What is the approximate height corresponding to this threshold?"
   ]
  },
  {
   "cell_type": "markdown",
   "id": "4c43f929",
   "metadata": {},
   "source": [
    "Since the dataset is approximately normally distributed and the skewness is approximately zero, we can assume the data follows a symmetrical distribution. This means that the 5% of the dataset with heights below a certain value is also mirrored by the 5% of the dataset with heights above that value.\n",
    "\n",
    "To find the approximate height corresponding to this threshold, we can use the standard normal distribution table. Looking up the z-score that corresponds to a cumulative probability of 5%, we find that it is approximately -1.645.\n",
    "\n",
    "Using the z-score formula, we can solve for the height:\n",
    "\n",
    "                    z = (x - μ) / σ\n",
    "\n",
    "                    -1.645 = (x - 170) / 10\n",
    "\n",
    "                    -1.645 * 10 = x - 170\n",
    "\n",
    "                    -16.45 = x - 170\n",
    "\n",
    "                    x = 170 - 16.45\n",
    "\n",
    "                    x ≈ 153.55\n",
    "\n",
    "Therefore, the approximate height corresponding to the threshold where 5% of the dataset has heights below that value is approximately 153.55 cm.\n"
   ]
  },
  {
   "cell_type": "markdown",
   "id": "eb6077fa",
   "metadata": {},
   "source": [
    "#### e. Calculate the coefficient of variation (CV) for the dataset."
   ]
  },
  {
   "cell_type": "markdown",
   "id": "a607ff11",
   "metadata": {},
   "source": [
    "To calculate the coefficient of variation (CV) for the dataset, we divide the standard deviation by the mean and multiply by 100.\n",
    "\n",
    "                CV = (standard deviation / mean) * 100\n",
    "\n",
    "In this case, the mean height is 170 cm and the standard deviation is 10 cm.\n",
    "\n",
    "                CV = (10 / 170) * 100 ≈ 5.88\n",
    "\n",
    "Therefore, the coefficient of variation (CV) for the dataset is approximately 5.88%.\n"
   ]
  },
  {
   "cell_type": "markdown",
   "id": "492a19ea",
   "metadata": {},
   "source": [
    "#### f. Calculate the skewness of the dataset and interpret the result"
   ]
  },
  {
   "cell_type": "markdown",
   "id": "347f47a9",
   "metadata": {},
   "source": [
    "The skewness of a dataset measures the asymmetry of its distribution. A skewness value of approximately zero indicates that the dataset is approximately symmetrical.\n",
    "\n",
    "To calculate the skewness, we can use the following formula:\n",
    "\n",
    "                Skewness = (3 * (mean - median)) / standard deviation\n",
    "\n",
    "Since the dataset is normally distributed and the skewness is approximately zero, the mean and median are equal.\n",
    "\n",
    "                Skewness = (3 * (mean - mean)) / standard deviation = 0\n",
    "\n",
    "Therefore, the skewness of the dataset is approximately zero, indicating that it is approximately symmetrical.\n",
    "\n"
   ]
  },
  {
   "cell_type": "markdown",
   "id": "979e785d",
   "metadata": {},
   "source": [
    "### 3) Consider the ‘Blood Pressure Before’ and ‘Blood Pressure After’ columns from the data and calculate the following\n",
    "\n",
    "a. Measure the dispersion in both and interpret the results.\n",
    "\n",
    "b. Calculate mean and 5% confidence interval and plot it in a graph\n",
    "\n",
    "c. Calculate the Mean absolute deviation and Standard deviation and interpret the results.\n",
    "\n",
    "d. Calculate the correlation coefficient and check the significance of it at 1% level of significance.\n"
   ]
  },
  {
   "cell_type": "code",
   "execution_count": 61,
   "id": "24b72e30",
   "metadata": {},
   "outputs": [],
   "source": [
    "data = pd.read_csv('../stat/data.csv')"
   ]
  },
  {
   "cell_type": "code",
   "execution_count": 62,
   "id": "d8f2019a",
   "metadata": {},
   "outputs": [
    {
     "data": {
      "text/html": [
       "<div>\n",
       "<style scoped>\n",
       "    .dataframe tbody tr th:only-of-type {\n",
       "        vertical-align: middle;\n",
       "    }\n",
       "\n",
       "    .dataframe tbody tr th {\n",
       "        vertical-align: top;\n",
       "    }\n",
       "\n",
       "    .dataframe thead th {\n",
       "        text-align: right;\n",
       "    }\n",
       "</style>\n",
       "<table border=\"1\" class=\"dataframe\">\n",
       "  <thead>\n",
       "    <tr style=\"text-align: right;\">\n",
       "      <th></th>\n",
       "      <th>Patient ID</th>\n",
       "      <th>Blood Pressure Before (mmHg)</th>\n",
       "      <th>Blood Pressure After (mmHg)</th>\n",
       "    </tr>\n",
       "  </thead>\n",
       "  <tbody>\n",
       "    <tr>\n",
       "      <th>0</th>\n",
       "      <td>1</td>\n",
       "      <td>130</td>\n",
       "      <td>120</td>\n",
       "    </tr>\n",
       "    <tr>\n",
       "      <th>1</th>\n",
       "      <td>2</td>\n",
       "      <td>142</td>\n",
       "      <td>135</td>\n",
       "    </tr>\n",
       "  </tbody>\n",
       "</table>\n",
       "</div>"
      ],
      "text/plain": [
       "   Patient ID   Blood Pressure Before (mmHg)   Blood Pressure After (mmHg)\n",
       "0           1                            130                           120\n",
       "1           2                            142                           135"
      ]
     },
     "execution_count": 62,
     "metadata": {},
     "output_type": "execute_result"
    }
   ],
   "source": [
    "data.head(2)"
   ]
  },
  {
   "cell_type": "code",
   "execution_count": 63,
   "id": "6f8f4f12",
   "metadata": {},
   "outputs": [
    {
     "data": {
      "text/plain": [
       "(100, 3)"
      ]
     },
     "execution_count": 63,
     "metadata": {},
     "output_type": "execute_result"
    }
   ],
   "source": [
    "data.shape"
   ]
  },
  {
   "cell_type": "code",
   "execution_count": 64,
   "id": "4fd914fc",
   "metadata": {},
   "outputs": [
    {
     "name": "stdout",
     "output_type": "stream",
     "text": [
      "<class 'pandas.core.frame.DataFrame'>\n",
      "RangeIndex: 100 entries, 0 to 99\n",
      "Data columns (total 3 columns):\n",
      " #   Column                         Non-Null Count  Dtype\n",
      "---  ------                         --------------  -----\n",
      " 0   Patient ID                     100 non-null    int64\n",
      " 1    Blood Pressure Before (mmHg)  100 non-null    int64\n",
      " 2    Blood Pressure After (mmHg)   100 non-null    int64\n",
      "dtypes: int64(3)\n",
      "memory usage: 2.5 KB\n"
     ]
    }
   ],
   "source": [
    "data.info()"
   ]
  },
  {
   "cell_type": "code",
   "execution_count": 65,
   "id": "c3306a10",
   "metadata": {},
   "outputs": [
    {
     "data": {
      "text/plain": [
       "Index(['Patient ID', ' Blood Pressure Before (mmHg)',\n",
       "       ' Blood Pressure After (mmHg)'],\n",
       "      dtype='object')"
      ]
     },
     "execution_count": 65,
     "metadata": {},
     "output_type": "execute_result"
    }
   ],
   "source": [
    "data.columns"
   ]
  },
  {
   "cell_type": "markdown",
   "id": "de08b338",
   "metadata": {},
   "source": [
    "#### a. Measure the dispersion in both and interpret the results."
   ]
  },
  {
   "cell_type": "code",
   "execution_count": 66,
   "id": "bfb62a7c",
   "metadata": {},
   "outputs": [
    {
     "data": {
      "image/png": "[encoded data removed]",
      "text/plain": [
       "<Figure size 432x288 with 1 Axes>"
      ]
     },
     "metadata": {
      "needs_background": "light"
     },
     "output_type": "display_data"
    }
   ],
   "source": [
    "plt.hist(data[' Blood Pressure Before (mmHg)'], bins=10, edgecolor='black')\n",
    "plt.xlabel('Blood Pressure Before (mmHg)')\n",
    "plt.ylabel('Frequency')\n",
    "plt.title('Histogram of Blood Pressure Before')\n",
    "plt.show()"
   ]
  },
  {
   "cell_type": "code",
   "execution_count": 67,
   "id": "9900788c",
   "metadata": {},
   "outputs": [
    {
     "data": {
      "text/plain": [
       "6.5652037287505385"
      ]
     },
     "execution_count": 67,
     "metadata": {},
     "output_type": "execute_result"
    }
   ],
   "source": [
    "std_dev = np.std(data[' Blood Pressure Before (mmHg)'])\n",
    "std_dev "
   ]
  },
  {
   "cell_type": "code",
   "execution_count": 68,
   "id": "c045304a",
   "metadata": {},
   "outputs": [
    {
     "data": {
      "text/plain": [
       "6.853495458523338"
      ]
     },
     "execution_count": 68,
     "metadata": {},
     "output_type": "execute_result"
    }
   ],
   "source": [
    "std_dev = np.std(data[' Blood Pressure After (mmHg)'])\n",
    "std_dev"
   ]
  },
  {
   "cell_type": "code",
   "execution_count": 69,
   "id": "8d843e12",
   "metadata": {},
   "outputs": [
    {
     "data": {
      "image/png": "[encoded data removed]",
      "text/plain": [
       "<Figure size 432x288 with 1 Axes>"
      ]
     },
     "metadata": {
      "needs_background": "light"
     },
     "output_type": "display_data"
    }
   ],
   "source": [
    "plt.hist(data[' Blood Pressure After (mmHg)'], bins=10, edgecolor='black')\n",
    "plt.xlabel('Blood Pressure After (mmHg)')\n",
    "plt.ylabel('Frequency')\n",
    "plt.title('Histogram of Blood Pressure After')\n",
    "plt.show()"
   ]
  },
  {
   "cell_type": "code",
   "execution_count": 70,
   "id": "d33dba0a",
   "metadata": {},
   "outputs": [
    {
     "data": {
      "text/plain": [
       "128.36"
      ]
     },
     "execution_count": 70,
     "metadata": {},
     "output_type": "execute_result"
    }
   ],
   "source": [
    "mean = np.mean(data[' Blood Pressure After (mmHg)'])\n",
    "mean"
   ]
  },
  {
   "cell_type": "markdown",
   "id": "56e7e50f",
   "metadata": {},
   "source": [
    "- The standard deviation for the blood pressure before measurements is 6.56 mmHg, indicating that, on average, the data points deviate from the mean by approximately 6.56 mmHg. \n",
    "- Similarly, the standard deviation for the blood pressure after measurements is 6.85 mmHg. A larger standard deviation suggests a greater dispersion or variability in the data. \n",
    "- This indicates that the blood pressure after has a wider spread of values compared to the blood pressure before.\n"
   ]
  },
  {
   "cell_type": "markdown",
   "id": "1d2a7b24",
   "metadata": {},
   "source": [
    "#### b. Calculate mean and 5% confidence interval and plot it in a graph"
   ]
  },
  {
   "cell_type": "code",
   "execution_count": 71,
   "id": "7b21fa20",
   "metadata": {},
   "outputs": [],
   "source": [
    "mean_before = data[' Blood Pressure Before (mmHg)'].mean()\n",
    "mean_after = data[' Blood Pressure After (mmHg)'].mean()\n",
    "std_dev_before = np.std(data[' Blood Pressure Before (mmHg)'])\n",
    "std_dev_after = np.std(data[' Blood Pressure After (mmHg)'])"
   ]
  },
  {
   "cell_type": "raw",
   "id": "86ddd88e",
   "metadata": {},
   "source": [
    "Confidence Interval = Mean ± (Critical Value * Standard Deviation / sqrt(Number of Observations))"
   ]
  },
  {
   "cell_type": "code",
   "execution_count": 72,
   "id": "ee6f28cf",
   "metadata": {},
   "outputs": [
    {
     "data": {
      "text/plain": [
       "(135.1967799308351, 132.6232200691649)"
      ]
     },
     "execution_count": 72,
     "metadata": {},
     "output_type": "execute_result"
    }
   ],
   "source": [
    "#For \"Blood Pressure Before\":\n",
    "CI_before = mean_before + (1.96 * std_dev_before / np.sqrt(100))\n",
    "CI_before_ = mean_before - (1.96 * std_dev_before / np.sqrt(100))\n",
    "CI_before = (CI_before,CI_before_)\n",
    "CI_before"
   ]
  },
  {
   "cell_type": "code",
   "execution_count": 73,
   "id": "2551fa26",
   "metadata": {},
   "outputs": [
    {
     "data": {
      "text/plain": [
       "(129.7032851098706, 127.01671489012944)"
      ]
     },
     "execution_count": 73,
     "metadata": {},
     "output_type": "execute_result"
    }
   ],
   "source": [
    "#For \"Blood Pressure After\":\n",
    "CI_after = mean_after + (1.96 * std_dev_after / np.sqrt(100))\n",
    "CI_after_ = mean_after - (1.96 * std_dev_after / np.sqrt(100))\n",
    "CI_after=(CI_after,CI_after_)\n",
    "CI_after"
   ]
  },
  {
   "cell_type": "code",
   "execution_count": 74,
   "id": "05b64efd",
   "metadata": {},
   "outputs": [
    {
     "data": {
      "image/png": "[encoded data removed]",
      "text/plain": [
       "<Figure size 432x288 with 1 Axes>"
      ]
     },
     "metadata": {
      "needs_background": "light"
     },
     "output_type": "display_data"
    }
   ],
   "source": [
    "# Plotting\n",
    "labels = ['Blood Pressure Before', 'Blood Pressure After']\n",
    "x = np.arange(len(labels))\n",
    "means = [mean_before, mean_after]\n",
    "cis = [CI_before, CI_after]\n",
    "\n",
    "# Calculate error bars\n",
    "lower_bound = [mean - ci[0] for mean, ci in zip(means, cis)]\n",
    "upper_bound = [ci[1] - mean for mean, ci in zip(means, cis)]\n",
    "\n",
    "fig, ax = plt.subplots()\n",
    "\n",
    "# Create the bar chart\n",
    "rects = ax.bar(x, means, yerr=[lower_bound, upper_bound], capsize=5)\n",
    "\n",
    "# Customize the plot\n",
    "ax.set_ylabel('Mean Blood Pressure (mmHg)')\n",
    "ax.set_xticks(x)\n",
    "ax.set_xticklabels(labels)\n",
    "ax.set_title('Mean Blood Pressure Before and After')\n",
    "\n",
    "# Add value labels to the bars\n",
    "for rect in rects:\n",
    "    height = rect.get_height()\n",
    "    ax.annotate(f'{height}', xy=(rect.get_x() + rect.get_width() / 2, height),\n",
    "                xytext=(0, 3), textcoords=\"offset points\", ha='center', va='bottom')\n",
    "\n",
    "# Show the plot\n",
    "plt.tight_layout()\n",
    "plt.show()\n"
   ]
  },
  {
   "cell_type": "markdown",
   "id": "6eddf7c6",
   "metadata": {},
   "source": [
    "#### c. Calculate the Mean absolute deviation and Standard deviation and interpret the results."
   ]
  },
  {
   "cell_type": "code",
   "execution_count": 75,
   "id": "8ea0eefa",
   "metadata": {},
   "outputs": [
    {
     "name": "stdout",
     "output_type": "stream",
     "text": [
      "Mean Absolute Deviation:\n",
      "Before: 5.7118\n",
      "After: 5.9\n",
      "\n",
      "Standard Deviation:\n",
      "Before: 6.5652037287505385\n",
      "After: 6.853495458523338\n"
     ]
    }
   ],
   "source": [
    "# Calculate Mean Absolute Deviation (MAD)\n",
    "mad_before = np.mean(np.abs(data[' Blood Pressure Before (mmHg)'] - data[' Blood Pressure Before (mmHg)'].mean()))\n",
    "mad_after = np.mean(np.abs(data[' Blood Pressure After (mmHg)'] - data[' Blood Pressure After (mmHg)'].mean()))\n",
    "\n",
    "# Calculate Standard Deviation (SD)\n",
    "sd_before = np.std(data[' Blood Pressure Before (mmHg)'])\n",
    "sd_after = np.std(data[' Blood Pressure After (mmHg)'])\n",
    "\n",
    "print(\"Mean Absolute Deviation:\")\n",
    "print(\"Before:\", mad_before)\n",
    "print(\"After:\", mad_after)\n",
    "print()\n",
    "print(\"Standard Deviation:\")\n",
    "print(\"Before:\", sd_before)\n",
    "print(\"After:\", sd_after)\n"
   ]
  },
  {
   "cell_type": "markdown",
   "id": "c3745723",
   "metadata": {},
   "source": [
    "#### Mean Absolute Deviation (MAD):\n",
    "\n",
    "    •\tThe MAD measures the average distance between each data point and the mean of the data set. \n",
    "        It provides a measure of the dispersion of the data.\n",
    "    •\tMAD measures the average absolute difference of each data point from the mean.\n",
    "    •\tMAD is a robust measure of dispersion since it is not affected by outliers.\n",
    "    •\tA lower MAD value indicates less dispersion or variability in the data around the mean.\n",
    "\n",
    "- **Before**: The MAD of 5.7118 indicates that, on average, the individual blood pressure measurements deviate from the mean value by approximately 5.7118 mmHg. This suggests that there is some variability or dispersion in the before blood pressure measurements, with data points varying from the mean by around 5.7118 mmHg.\n",
    "\n",
    "- **After**: The MAD of 5.9 indicates that, on average, the individual blood pressure measurements deviate from the mean value by approximately 5.9 mmHg. Similarly, this suggests some variability or dispersion in the after blood pressure measurements, with data points varying from the mean by around 5.9 mmHg.\n",
    "\n",
    "- Comparing the MAD values for the before and after measurements, we can see that the MAD is slightly higher for the \"After\" measurements (5.9) compared to the \"Before\" measurements (5.7118). This indicates that the \"After\" blood pressure measurements have a slightly higher average absolute deviation from the mean compared to the \"Before\" measurements, suggesting a slightly greater dispersion in the \"After\" measurements.\n",
    "\n",
    "#### Standard Deviation (SD):\n",
    "\n",
    "    •\tThe SD measures the spread or dispersion of the data points around the mean\n",
    "    •\tSD measures the average deviation of each data point from the mean.\n",
    "    •\tSD is a commonly used measure of dispersion that takes into account the squared differences.\n",
    "    •\tA lower SD value indicates less spread or variability in the data.\n",
    "\n",
    "- **Before**: The SD of 6.5652 indicates the average amount by which the individual blood pressure measurements deviate from the mean value. It provides a measure of the overall dispersion or spread of the \"Before\" blood pressure measurements. With an SD of 6.5652 mmHg, the data points in the \"Before\" measurements vary, on average, by approximately 6.5652 mmHg from the mean.\n",
    "\n",
    "- **After**: The SD of 6.8535 indicates the average amount of deviation of the individual blood pressure measurements from the mean value in the \"After\" measurements. Similarly, it provides a measure of the overall dispersion or spread of the \"After\" blood pressure measurements. With an SD of 6.8535 mmHg, the data points in the \"After\" measurements vary, on average, by approximately 6.8535 mmHg from the mean.\n",
    "\n",
    "- Comparing the SD values for the before and after measurements, we can observe that the SD is slightly higher for the \"After\" measurements (6.8535) compared to the \"Before\" measurements (6.5652). This indicates that the \"After\" blood pressure measurements have a slightly greater overall dispersion or spread compared to the \"Before\" measurements.\n"
   ]
  },
  {
   "cell_type": "markdown",
   "id": "f918b806",
   "metadata": {},
   "source": [
    "#### d. Calculate the correlation coefficient and check the significance of it at 1% level of significance."
   ]
  },
  {
   "cell_type": "code",
   "execution_count": 76,
   "id": "f757c1a5",
   "metadata": {},
   "outputs": [
    {
     "data": {
      "text/plain": [
       "(0.9999999999999999, 0.0)"
      ]
     },
     "execution_count": 76,
     "metadata": {},
     "output_type": "execute_result"
    }
   ],
   "source": [
    "correlation_coef, p_value = pearsonr(data[' Blood Pressure Before (mmHg)'], data[' Blood Pressure Before (mmHg)'])\n",
    "correlation_coef, p_value"
   ]
  },
  {
   "cell_type": "code",
   "execution_count": 77,
   "id": "c2fe74c3",
   "metadata": {},
   "outputs": [
    {
     "data": {
      "text/plain": [
       "<AxesSubplot:>"
      ]
     },
     "execution_count": 77,
     "metadata": {},
     "output_type": "execute_result"
    },
    {
     "data": {
      "image/png": "[encoded data removed]",
      "text/plain": [
       "<Figure size 432x288 with 2 Axes>"
      ]
     },
     "metadata": {
      "needs_background": "light"
     },
     "output_type": "display_data"
    }
   ],
   "source": [
    "sns.heatmap(data.corr())"
   ]
  },
  {
   "cell_type": "code",
   "execution_count": 78,
   "id": "92322a4f",
   "metadata": {},
   "outputs": [
    {
     "name": "stdout",
     "output_type": "stream",
     "text": [
      "Significant correlation\n"
     ]
    }
   ],
   "source": [
    "alpha = 0.01  # Significance level set to 1%\n",
    "if p_value < alpha:\n",
    "    print(\"Significant correlation\")\n",
    "else:\n",
    "    print(\"No significant correlation\")\n"
   ]
  },
  {
   "cell_type": "markdown",
   "id": "4c6b60b8",
   "metadata": {},
   "source": [
    "- P-value (0.0) is less than significance level alpha=0.01 indicates significant correlation."
   ]
  },
  {
   "cell_type": "markdown",
   "id": "2158b77f",
   "metadata": {},
   "source": [
    "### 4) A group of 20 friends decide to play a game in which they each write a number between 1 and 20 on a slip of paper and put it into a hat. They then draw one slip of paper at random. What is the probability that the number on the slip of paper is a perfect square (i.e., 1, 4, 9, or 16)?"
   ]
  },
  {
   "cell_type": "markdown",
   "id": "f392abdd",
   "metadata": {},
   "source": [
    "- To calculate the probability that the number drawn from the hat is a perfect square (1, 4, 9, or 16), we need to determine the number of favorable outcomes (perfect squares) and the total number of possible outcomes.\n",
    "\n",
    "- Number of favorable outcomes:\n",
    "There are 4 perfect square numbers between 1 and 20: 1, 4, 9, and 16.\n",
    "\n",
    "- Number of possible outcomes:\n",
    "Since there are 20 friends participating, each of them writing a number between 1 and 20, the total number of possible outcomes is 20.\n",
    "\n",
    "- Probability of drawing a perfect square:\n",
    "The probability of an event is calculated by dividing the number of favorable outcomes by the number of possible outcomes.\n",
    "\n",
    "        Probability = Number of favorable outcomes / Number of possible outcomes\n",
    "\n",
    "- In this case, the probability of drawing a perfect square is:\n",
    "\n",
    "        Probability = 4 (number of perfect squares) / 20 (total number of possible outcomes)\n",
    "                    = 0.2\n",
    "\n",
    "- Therefore, the probability of drawing a perfect square number from the hat is 0.2 or 20%.\n"
   ]
  },
  {
   "cell_type": "markdown",
   "id": "c30991d8",
   "metadata": {},
   "source": [
    "### 5) A certain city has two taxi companies: Company A has 80% of the taxis and  Company B has 20% of the taxis. Company A's taxis have a 95% success rate for picking up passengers on time, while Company B's taxis have a 90% success rate. If a randomly selected taxi is late, what is the probability that it belongs to Company A?\n"
   ]
  },
  {
   "cell_type": "markdown",
   "id": "8ea772d3",
   "metadata": {},
   "source": [
    "To calculate the probability that a randomly selected taxi, which is late, belongs to Company A, we can use Byes' theorem.\n",
    "\n",
    "Let's define the following probabilities:\n",
    "\n",
    "P(A): Probability that a randomly selected taxi belongs to Company A (80% or 0.8).\n",
    "\n",
    "P(B): Probability that a randomly selected taxi belongs to Company B (20% or 0.2).\n",
    "\n",
    "P(L|A): Probability that a taxi from Company A is late (1 - success rate = 1 - 0.95 = 0.05).\n",
    "\n",
    "P(L|B): Probability that a taxi from Company B is late (1 - success rate = 1 - 0.90 = 0.10).\n",
    "\n",
    "P(L): Probability that a randomly selected taxi is late.\n",
    "\n",
    "We are given that the randomly selected taxi is late, and we want to find the probability that it belongs to Company A, which can be calculated using Bayes' theorem:\n",
    "\n",
    "                    P(A|L) = (P(L|A) * P(A)) / P(L)\n",
    "\n",
    "To calculate P(L), we need to consider the probabilities of a taxi being late from both companies:\n",
    "\n",
    "                    P(L) = P(L|A) * P(A) + P(L|B) * P(B)\n",
    "\n",
    "Substituting the values, we can calculate the probability:\n",
    "\n",
    "                    P(A|L) = (P(L|A) * P(A)) / (P(L|A) * P(A) + P(L|B) * P(B))\n",
    "\n",
    "                    P(A|L) = (0.05 * 0.8) / (0.05 * 0.8 + 0.10 * 0.2)\n",
    "                           = 0.04 / (0.04 + 0.02)\n",
    "                           = 0.04 / 0.06\n",
    "                           = 2/3\n",
    "                           = 0.6667\n",
    "\n",
    "Therefore, the probability that a randomly selected taxi, which is late, belongs to Company A is approximately 0.6667 or 66.67%.\n"
   ]
  },
  {
   "cell_type": "markdown",
   "id": "d2ca54a3",
   "metadata": {},
   "source": [
    "### 6) A pharmaceutical company is developing a drug that is supposed to reduce blood pressure. They conduct a clinical trial with 100 patients and record their blood pressure before and after taking the drug. The company wants to know if the change in blood pressure follows a normal distribution."
   ]
  },
  {
   "cell_type": "code",
   "execution_count": 79,
   "id": "1a846f16",
   "metadata": {},
   "outputs": [],
   "source": [
    "numerical_features = [' Blood Pressure Before (mmHg)',' Blood Pressure After (mmHg)']"
   ]
  },
  {
   "cell_type": "code",
   "execution_count": 80,
   "id": "441cb4ac",
   "metadata": {},
   "outputs": [
    {
     "data": {
      "image/png": "[encoded data removed]",
      "text/plain": [
       "<Figure size 720x720 with 2 Axes>"
      ]
     },
     "metadata": {
      "needs_background": "light"
     },
     "output_type": "display_data"
    }
   ],
   "source": [
    "# checking data distribution of numerical columns\n",
    "plt.figure(figsize=(10, 10))\n",
    "plt.suptitle('Data Distribution', fontsize=15, fontweight='bold', alpha=1.)\n",
    "\n",
    "for i in range(0, len(numerical_features)):\n",
    "    plt.subplot(3, 2, i+1)\n",
    "    sns.kdeplot(x=data[numerical_features[i]],shade=True, color='b')\n",
    "    plt.xlabel(numerical_features[i])\n",
    "    plt.tight_layout()"
   ]
  },
  {
   "cell_type": "code",
   "execution_count": 81,
   "id": "e9ab7f09",
   "metadata": {},
   "outputs": [],
   "source": [
    "change_in_blood_pressure = data[' Blood Pressure After (mmHg)'] - data[' Blood Pressure Before (mmHg)']"
   ]
  },
  {
   "cell_type": "code",
   "execution_count": 82,
   "id": "95eb190a",
   "metadata": {},
   "outputs": [
    {
     "data": {
      "text/plain": [
       "(0.953819990158081, 0.0014938802924007177)"
      ]
     },
     "execution_count": 82,
     "metadata": {},
     "output_type": "execute_result"
    }
   ],
   "source": [
    "statistic, p_value = shapiro(change_in_blood_pressure)\n",
    "statistic, p_value"
   ]
  },
  {
   "cell_type": "code",
   "execution_count": 83,
   "id": "26fda16f",
   "metadata": {},
   "outputs": [],
   "source": [
    "alpha = 0.05  # Significance level set to 5%\n",
    "if p_value > alpha:\n",
    "    interpretation =\"The change in blood pressure follows a normal distribution.\"\n",
    "else:\n",
    "    interpretation =\"The change in blood pressure does not follow a normal distribution.\"\n"
   ]
  },
  {
   "cell_type": "code",
   "execution_count": 84,
   "id": "5be46c0c",
   "metadata": {},
   "outputs": [
    {
     "name": "stdout",
     "output_type": "stream",
     "text": [
      "Shapiro-Wilk Test Statistic: 0.953819990158081\n",
      "p-value: 0.0014938802924007177\n",
      "Interpretation: The change in blood pressure does not follow a normal distribution.\n"
     ]
    }
   ],
   "source": [
    "print(\"Shapiro-Wilk Test Statistic:\", statistic)\n",
    "print(\"p-value:\", p_value)\n",
    "print(\"Interpretation:\", interpretation)\n"
   ]
  },
  {
   "cell_type": "code",
   "execution_count": 85,
   "id": "21af4f73",
   "metadata": {},
   "outputs": [
    {
     "data": {
      "text/plain": [
       "(0.9886501019683699, 6.312857364240549e-195)"
      ]
     },
     "execution_count": 85,
     "metadata": {},
     "output_type": "execute_result"
    }
   ],
   "source": [
    "statistic_ks, p_value_ks = kstest(change_in_blood_pressure, 'norm')\n",
    "statistic_ks, p_value_ks"
   ]
  },
  {
   "cell_type": "markdown",
   "id": "34bf6df8",
   "metadata": {},
   "source": [
    "- The change in blood pressure does not follow a normal distribution."
   ]
  },
  {
   "cell_type": "markdown",
   "id": "edbde995",
   "metadata": {},
   "source": [
    "### 7) The equations of two lines of regression, obtained in a correlation analysis between variables X and Y are as follows:  and 2X + 3 -8 = 0 , 2X+ Y - 5 = 0 ,The variance of X = 4 \n",
    "Find the\n",
    "a. Variance of Y\n",
    "\n",
    "b. Coefficient of determination of C and Y\n",
    "\n",
    "c. Standard error of estimate of X on Y and of Y on X."
   ]
  },
  {
   "cell_type": "markdown",
   "id": "208be1d7",
   "metadata": {},
   "source": [
    "Answer-\n",
    "To find the variance of Y, coefficient of determination (R^2) of X and Y, and the standard error of estimate of X on Y and Y on X, we can use the equations of the regression lines and the given variance of X.\n",
    "\n",
    "- Given:\n",
    "        Equation 1:   2X + 3Y - 8 = 0\n",
    "        Equation 2:  2X + Y - 5 = 0\n",
    "        Variance of X  (Var(X)) = 4\n",
    "\n",
    "- a. Variance of Y:\n",
    "To find the variance of Y, we need to determine the coefficient of X in Equation 2. From Equation 2, we can see that the coefficient of X is 2. Therefore, the variance of Y is equal to the variance of X multiplied by the square of the coefficient of X.\n",
    "\n",
    "        Var(Y)    = Var(X) * (coefficient of X)^2\n",
    "                  = 4 * (2^2)\n",
    "                  = 16\n",
    "\n",
    "- b. Coefficient of determination (R^2) of X and Y:\n",
    "The coefficient of determination (R^2) represents the proportion of the variance in the dependent variable (Y) that can be explained by the independent variable (X). In this case, we have two regression lines, so we need to calculate R^2 for both X and Y. \n",
    "\n",
    "- For X:\n",
    "        R^2(X) = (Sum of squares of regression) / (Total sum of squares)\n",
    "The sum of squares of regression for X can be obtained by finding the variance of X (Var(X)).\n",
    "\n",
    "        R^2(X) = Var(X) / Var(X)\n",
    "               = 4 / 4\n",
    "               = 1\n",
    "\n",
    "- For Y:\n",
    "        R^2(Y) = (Sum of squares of regression) / (Total sum of squares)\n",
    "The sum of squares of regression for Y can be obtained by finding the variance of Y (Var(Y)).\n",
    "\n",
    "        R^2(Y) = Var(Y) / Var(Y)\n",
    "               = 16 / 16\n",
    "               = 1\n",
    "\n",
    "\n",
    "- c. Standard error of estimate of X on Y and Y on X:\n",
    "The standard error of estimate represents the average distance between the actual data points and the predicted values obtained from the regression line.\n",
    "\n",
    "- For X on Y:\n",
    "The standard error of estimate of X on Y can be calculated using the equation:\n",
    "Standard error of estimate(X on Y) = √(1 - R^2(X)) * √Var(X)\n",
    "                              \t\t     = √(1 - 1) * √4\n",
    "                                 \t\t     = √0 * 2\n",
    "                                  \t\t     = 0\n",
    "\n",
    "- For Y on X:\n",
    "The standard error of estimate of Y on X can be calculated using the equation:\n",
    "Standard error of estimate(Y on X) = √(1 - R^2(Y)) * √Var(Y)\n",
    "                                  \t\t     = √(1 - 1) * √16\n",
    "                                  \t\t     = √0 * 4\n",
    "                                  \t\t     = 0\n",
    "\n",
    "Therefore,\n",
    "a. Variance of Y = 16\n",
    "b. Coefficient of determination (R^2) of X and Y = 1 for both X and Y\n",
    "c. Standard error of estimate of X on Y = 0 and standard error of estimate of Y on X = 0"
   ]
  },
  {
   "cell_type": "markdown",
   "id": "919d0e21",
   "metadata": {},
   "source": [
    "### 8) The anxiety levels of 10 participants were measured before and after a new therapy. The scores are not normally distributed. Use the Wilcoxon signed-rank test to test whether the therapy had a significant effect on anxiety levels. The data is given below: Participant Before therapy After therapy Difference"
   ]
  },
  {
   "cell_type": "code",
   "execution_count": 86,
   "id": "6a99db1a",
   "metadata": {},
   "outputs": [],
   "source": [
    "data = pd.read_excel('../stat/q8-data.xlsx')"
   ]
  },
  {
   "cell_type": "code",
   "execution_count": 87,
   "id": "0bf87671",
   "metadata": {},
   "outputs": [
    {
     "data": {
      "text/html": [
       "<div>\n",
       "<style scoped>\n",
       "    .dataframe tbody tr th:only-of-type {\n",
       "        vertical-align: middle;\n",
       "    }\n",
       "\n",
       "    .dataframe tbody tr th {\n",
       "        vertical-align: top;\n",
       "    }\n",
       "\n",
       "    .dataframe thead th {\n",
       "        text-align: right;\n",
       "    }\n",
       "</style>\n",
       "<table border=\"1\" class=\"dataframe\">\n",
       "  <thead>\n",
       "    <tr style=\"text-align: right;\">\n",
       "      <th></th>\n",
       "      <th>Participant</th>\n",
       "      <th>Before therapy</th>\n",
       "      <th>After therapy</th>\n",
       "      <th>Difference</th>\n",
       "    </tr>\n",
       "  </thead>\n",
       "  <tbody>\n",
       "    <tr>\n",
       "      <th>0</th>\n",
       "      <td>1</td>\n",
       "      <td>10</td>\n",
       "      <td>7</td>\n",
       "      <td>-3</td>\n",
       "    </tr>\n",
       "  </tbody>\n",
       "</table>\n",
       "</div>"
      ],
      "text/plain": [
       "   Participant  Before therapy  After therapy  Difference\n",
       "0            1              10              7          -3"
      ]
     },
     "execution_count": 87,
     "metadata": {},
     "output_type": "execute_result"
    }
   ],
   "source": [
    "data.head(1)"
   ]
  },
  {
   "cell_type": "code",
   "execution_count": 88,
   "id": "1894abe5",
   "metadata": {},
   "outputs": [
    {
     "data": {
      "text/plain": [
       "(0.0, 0.001953125)"
      ]
     },
     "execution_count": 88,
     "metadata": {},
     "output_type": "execute_result"
    }
   ],
   "source": [
    "statistic, p_value = wilcoxon(data['Difference'])\n",
    "statistic, p_value"
   ]
  },
  {
   "cell_type": "code",
   "execution_count": 89,
   "id": "97def827",
   "metadata": {},
   "outputs": [],
   "source": [
    "alpha = 0.05  # Significance level set to 5%"
   ]
  },
  {
   "cell_type": "code",
   "execution_count": 90,
   "id": "36ceb88e",
   "metadata": {},
   "outputs": [],
   "source": [
    "if p_value > alpha:\n",
    "    interpretation = \"The therapy did not have a significant effect on anxiety levels.\"\n",
    "else:\n",
    "    interpretation = \"The therapy had a significant effect on anxiety levels.\""
   ]
  },
  {
   "cell_type": "code",
   "execution_count": 91,
   "id": "e16d81a9",
   "metadata": {},
   "outputs": [
    {
     "name": "stdout",
     "output_type": "stream",
     "text": [
      "Wilcoxon Signed-Rank Test Statistic: 0.0\n",
      "p-value: 0.001953125\n",
      "Interpretation: The therapy had a significant effect on anxiety levels.\n"
     ]
    }
   ],
   "source": [
    "print(\"Wilcoxon Signed-Rank Test Statistic:\", statistic)\n",
    "print(\"p-value:\", p_value)\n",
    "print(\"Interpretation:\", interpretation)"
   ]
  },
  {
   "cell_type": "markdown",
   "id": "a9b2f1a3",
   "metadata": {},
   "source": [
    "- The therapy had a significant effect on anxiety levels."
   ]
  },
  {
   "cell_type": "markdown",
   "id": "93249ec9",
   "metadata": {},
   "source": [
    "### 9) Given the score of students in multiple exams. Test the hypothesis that the mean scores of all the students are the same. If not, name the student with the highest score."
   ]
  },
  {
   "cell_type": "markdown",
   "id": "f1931265",
   "metadata": {},
   "source": [
    "- Step 1: State the null hypothesis (H0) and alternative hypothesis (H1):\n",
    "\n",
    "H0: The mean scores of all the students are the same.\n",
    "\n",
    "H1: The mean scores of at least one pair of students are different."
   ]
  },
  {
   "cell_type": "code",
   "execution_count": 92,
   "id": "b0f4dc6e",
   "metadata": {},
   "outputs": [],
   "source": [
    "data = pd.read_excel('../stat/q9-data.xlsx')"
   ]
  },
  {
   "cell_type": "markdown",
   "id": "b58e7532",
   "metadata": {},
   "source": [
    "- Step 2: Order the data"
   ]
  },
  {
   "cell_type": "code",
   "execution_count": 93,
   "id": "2b73162d",
   "metadata": {},
   "outputs": [
    {
     "data": {
      "text/html": [
       "<div>\n",
       "<style scoped>\n",
       "    .dataframe tbody tr th:only-of-type {\n",
       "        vertical-align: middle;\n",
       "    }\n",
       "\n",
       "    .dataframe tbody tr th {\n",
       "        vertical-align: top;\n",
       "    }\n",
       "\n",
       "    .dataframe thead th {\n",
       "        text-align: right;\n",
       "    }\n",
       "</style>\n",
       "<table border=\"1\" class=\"dataframe\">\n",
       "  <thead>\n",
       "    <tr style=\"text-align: right;\">\n",
       "      <th></th>\n",
       "      <th>Name</th>\n",
       "      <th>Exam1</th>\n",
       "      <th>Exam2</th>\n",
       "      <th>Final Exam</th>\n",
       "    </tr>\n",
       "  </thead>\n",
       "  <tbody>\n",
       "    <tr>\n",
       "      <th>0</th>\n",
       "      <td>Karan</td>\n",
       "      <td>85</td>\n",
       "      <td>90</td>\n",
       "      <td>92</td>\n",
       "    </tr>\n",
       "    <tr>\n",
       "      <th>1</th>\n",
       "      <td>Deepa</td>\n",
       "      <td>70</td>\n",
       "      <td>80</td>\n",
       "      <td>85</td>\n",
       "    </tr>\n",
       "    <tr>\n",
       "      <th>2</th>\n",
       "      <td>Karthik</td>\n",
       "      <td>90</td>\n",
       "      <td>85</td>\n",
       "      <td>88</td>\n",
       "    </tr>\n",
       "    <tr>\n",
       "      <th>3</th>\n",
       "      <td>Chandan</td>\n",
       "      <td>75</td>\n",
       "      <td>70</td>\n",
       "      <td>75</td>\n",
       "    </tr>\n",
       "    <tr>\n",
       "      <th>4</th>\n",
       "      <td>Jeevan</td>\n",
       "      <td>95</td>\n",
       "      <td>92</td>\n",
       "      <td>96</td>\n",
       "    </tr>\n",
       "  </tbody>\n",
       "</table>\n",
       "</div>"
      ],
      "text/plain": [
       "      Name  Exam1  Exam2  Final Exam\n",
       "0    Karan     85     90          92\n",
       "1    Deepa     70     80          85\n",
       "2  Karthik     90     85          88\n",
       "3  Chandan     75     70          75\n",
       "4   Jeevan     95     92          96"
      ]
     },
     "execution_count": 93,
     "metadata": {},
     "output_type": "execute_result"
    }
   ],
   "source": [
    "data"
   ]
  },
  {
   "cell_type": "code",
   "execution_count": 94,
   "id": "d32059a6",
   "metadata": {},
   "outputs": [],
   "source": [
    "alpha = 0.05  # Significance level set to 5%"
   ]
  },
  {
   "cell_type": "markdown",
   "id": "5e67edd9",
   "metadata": {},
   "source": [
    "- Step 3: Perform the ANOVA test:\n",
    "Check whether assumptions for ANOVA met or not"
   ]
  },
  {
   "cell_type": "code",
   "execution_count": 95,
   "id": "039a3bef",
   "metadata": {},
   "outputs": [
    {
     "data": {
      "text/plain": [
       "(0.9523513913154602, 0.7539724707603455)"
      ]
     },
     "execution_count": 95,
     "metadata": {},
     "output_type": "execute_result"
    }
   ],
   "source": [
    "#checking normality\n",
    "statistic, p_value = shapiro(data['Exam1'])\n",
    "statistic, p_value"
   ]
  },
  {
   "cell_type": "code",
   "execution_count": 96,
   "id": "88e621f7",
   "metadata": {},
   "outputs": [
    {
     "name": "stdout",
     "output_type": "stream",
     "text": [
      "Shapiro-Wilk Test Statistic: 0.9523513913154602\n",
      "p-value: 0.7539724707603455\n",
      "Interpretation: Exam1 follows a normal distribution.\n"
     ]
    }
   ],
   "source": [
    "alpha = 0.05  # Significance level set to 5%\n",
    "if p_value > alpha:\n",
    "    interpretation =\"Exam1 follows a normal distribution.\"\n",
    "else:\n",
    "    interpretation =\"Exam1 does not follow a normal distribution.\"\n",
    "    \n",
    "print(\"Shapiro-Wilk Test Statistic:\", statistic)\n",
    "print(\"p-value:\", p_value)\n",
    "print(\"Interpretation:\", interpretation)"
   ]
  },
  {
   "cell_type": "code",
   "execution_count": 97,
   "id": "65568225",
   "metadata": {},
   "outputs": [
    {
     "name": "stdout",
     "output_type": "stream",
     "text": [
      "Shapiro-Wilk Test Statistic: 0.9325636625289917\n",
      "p-value: 0.6139543056488037\n",
      "Interpretation: Exam2 follows a normal distribution.\n"
     ]
    }
   ],
   "source": [
    "statistic, p_value = shapiro(data['Exam2'])\n",
    "\n",
    "if p_value > alpha:\n",
    "    interpretation =\"Exam2 follows a normal distribution.\"\n",
    "else:\n",
    "    interpretation =\"Exam2 does not follow a normal distribution.\"\n",
    "    \n",
    "print(\"Shapiro-Wilk Test Statistic:\", statistic)\n",
    "print(\"p-value:\", p_value)\n",
    "print(\"Interpretation:\", interpretation)"
   ]
  },
  {
   "cell_type": "code",
   "execution_count": 98,
   "id": "f355c32e",
   "metadata": {},
   "outputs": [
    {
     "name": "stdout",
     "output_type": "stream",
     "text": [
      "Shapiro-Wilk Test Statistic: 0.9608591198921204\n",
      "p-value: 0.813953161239624\n",
      "Interpretation: Final Exam follows a normal distribution.\n"
     ]
    }
   ],
   "source": [
    "statistic, p_value = shapiro(data['Final Exam'])\n",
    "\n",
    "if p_value > alpha:\n",
    "    interpretation =\"Final Exam follows a normal distribution.\"\n",
    "else:\n",
    "    interpretation =\"Final Exam does not follow a normal distribution.\"\n",
    "    \n",
    "print(\"Shapiro-Wilk Test Statistic:\", statistic)\n",
    "print(\"p-value:\", p_value)\n",
    "print(\"Interpretation:\", interpretation)"
   ]
  },
  {
   "cell_type": "code",
   "execution_count": 99,
   "id": "78555884",
   "metadata": {},
   "outputs": [
    {
     "name": "stdout",
     "output_type": "stream",
     "text": [
      "Levene's test statistic: 0.2557077625570777\n",
      "p-value: 0.7784823819988612\n",
      "interpretation: variances are aprrox. equal among all group.\n"
     ]
    }
   ],
   "source": [
    "#Homogeneity of Variances\n",
    "# Perform Levene's test\n",
    "statistic, p_value = levene(data['Exam1'],data['Exam2'], data['Final Exam'])\n",
    "\n",
    "if p_value > alpha:\n",
    "    interpretation =\"variances are aprrox. equal among all group.\"\n",
    "else:\n",
    "    interpretation =\"variances are significantly different among all group\"\n",
    "\n",
    "print(\"Levene's test statistic:\", statistic)\n",
    "print(\"p-value:\", p_value)\n",
    "print(\"interpretation:\", interpretation)"
   ]
  },
  {
   "cell_type": "code",
   "execution_count": 100,
   "id": "315c6a56",
   "metadata": {},
   "outputs": [],
   "source": [
    "#assumptions are met"
   ]
  },
  {
   "cell_type": "code",
   "execution_count": 101,
   "id": "b1a9d128",
   "metadata": {},
   "outputs": [],
   "source": [
    "# Perform the ANOVA test\n",
    "f_statistic, p_value = f_oneway(data['Exam1'], data['Exam2'], data['Final Exam'])"
   ]
  },
  {
   "cell_type": "code",
   "execution_count": 102,
   "id": "b755186d",
   "metadata": {},
   "outputs": [],
   "source": [
    "alpha = 0.05  # Significance level set to 5%"
   ]
  },
  {
   "cell_type": "code",
   "execution_count": 103,
   "id": "9fd1c96b",
   "metadata": {},
   "outputs": [],
   "source": [
    "if p_value < alpha:\n",
    "    interpretation = \"Reject the null hypothesis H0.\"\n",
    "else:\n",
    "    interpretation = \"Failed to reject the null hypothesis H0.\""
   ]
  },
  {
   "cell_type": "code",
   "execution_count": 104,
   "id": "080692ee",
   "metadata": {},
   "outputs": [
    {
     "name": "stdout",
     "output_type": "stream",
     "text": [
      "F-statistic: 0.3236947791164659\n",
      "p-value: 0.7295954253321559\n",
      "Interpretation Failed to reject the null hypothesis H0.\n"
     ]
    }
   ],
   "source": [
    "print(\"F-statistic:\", f_statistic)\n",
    "print(\"p-value:\", p_value)\n",
    "print(\"Interpretation\",interpretation)\n"
   ]
  },
  {
   "cell_type": "markdown",
   "id": "fc16af70",
   "metadata": {},
   "source": [
    "- Step 3: Interpret the results:"
   ]
  },
  {
   "cell_type": "markdown",
   "id": "1ae19ec7",
   "metadata": {},
   "source": [
    "- Failed to reject the null hypothesis H0"
   ]
  },
  {
   "cell_type": "markdown",
   "id": "09a24e42",
   "metadata": {},
   "source": [
    "### 10. A factory produces light bulbs, and the probability of a bulb being defective is 0.05. The factory produces a large batch of 500 light bulbs.\n",
    "\n",
    "a. What is the probability that exactly 20 bulbs are defective?\n",
    "\n",
    "b. What is the probability that at least 10 bulbs are defective?\n",
    "\n",
    "c. What is the probability that at max 15 bulbs are defective?\n",
    "\n",
    "d. On average, how many defective bulbs would you expect in a batch of 500?\n"
   ]
  },
  {
   "cell_type": "markdown",
   "id": "6676e3d5",
   "metadata": {},
   "source": [
    "- To solve these probability questions related to defective light bulbs, we can use the binomial distribution. The binomial distribution is appropriate for situations where there are only two possible outcomes (defective or non-defective) and each trial is independent."
   ]
  },
  {
   "cell_type": "markdown",
   "id": "3a65ed89",
   "metadata": {},
   "source": [
    "- Given:\n",
    "Probability of a bulb being defective (p) = 0.05\n",
    "Total number of light bulbs (n) = 500"
   ]
  },
  {
   "cell_type": "markdown",
   "id": "e82d6f45",
   "metadata": {},
   "source": [
    "#### a. To find the probability that exactly 20 bulbs are defective, we can use the probability mass function (PMF) of the binomial distribution"
   ]
  },
  {
   "cell_type": "code",
   "execution_count": 105,
   "id": "63401b12",
   "metadata": {},
   "outputs": [
    {
     "data": {
      "text/plain": [
       "0.051616192536641056"
      ]
     },
     "execution_count": 105,
     "metadata": {},
     "output_type": "execute_result"
    }
   ],
   "source": [
    "from scipy.stats import binom\n",
    "\n",
    "p = 0.05\n",
    "n = 500\n",
    "k = 20\n",
    "\n",
    "probability_20_defective = binom.pmf(k, n, p)\n",
    "probability_20_defective"
   ]
  },
  {
   "cell_type": "markdown",
   "id": "78f11c1c",
   "metadata": {},
   "source": [
    "#### b. To find the probability that at least 10 bulbs are defective, we need to calculate the cumulative probability from 10 to 500 using the survival function (SF) of the binomial distribution:"
   ]
  },
  {
   "cell_type": "code",
   "execution_count": 106,
   "id": "1bf2426d",
   "metadata": {},
   "outputs": [
    {
     "data": {
      "text/plain": [
       "0.9998316463654902"
      ]
     },
     "execution_count": 106,
     "metadata": {},
     "output_type": "execute_result"
    }
   ],
   "source": [
    "p = 0.05\n",
    "n = 500\n",
    "k = 10\n",
    "\n",
    "probability_at_least_10_defective = binom.sf(k-1, n, p)\n",
    "probability_at_least_10_defective"
   ]
  },
  {
   "cell_type": "markdown",
   "id": "e8cf591a",
   "metadata": {},
   "source": [
    "#### c. To find the probability that at most 15 bulbs are defective, we can calculate the cumulative probability from 0 to 15 using the cumulative distribution function (CDF) of the binomial distribution:"
   ]
  },
  {
   "cell_type": "code",
   "execution_count": 107,
   "id": "c66248b9",
   "metadata": {},
   "outputs": [
    {
     "data": {
      "text/plain": [
       "0.01985837716300623"
      ]
     },
     "execution_count": 107,
     "metadata": {},
     "output_type": "execute_result"
    }
   ],
   "source": [
    "p = 0.05\n",
    "n = 500\n",
    "k = 15\n",
    "\n",
    "probability_at_most_15_defective = binom.cdf(k, n, p)\n",
    "probability_at_most_15_defective"
   ]
  },
  {
   "cell_type": "markdown",
   "id": "e3691e17",
   "metadata": {},
   "source": [
    "#### d. To calculate the average number of defective bulbs in a batch of 500, we can use the expected value (mean) of the binomial distribution:"
   ]
  },
  {
   "cell_type": "code",
   "execution_count": 108,
   "id": "1b68443b",
   "metadata": {},
   "outputs": [
    {
     "data": {
      "text/plain": [
       "25.0"
      ]
     },
     "execution_count": 108,
     "metadata": {},
     "output_type": "execute_result"
    }
   ],
   "source": [
    "p = 0.05\n",
    "n = 500\n",
    "\n",
    "expected_defective_bulbs = n * p\n",
    "expected_defective_bulbs"
   ]
  },
  {
   "cell_type": "markdown",
   "id": "b5cf8344",
   "metadata": {},
   "source": [
    "### 11. Given the data of a feature contributing to different classes\n",
    "\n",
    "a. Check whether the distribution of all the classes are the same or not.\n",
    "\n",
    "b. Check for the equality of variance\n",
    "\n",
    "c. Which amount LDA and QDA would perform better on this data for classification and why.\n",
    "\n",
    "d. Check the equality of mean for between all the classes."
   ]
  },
  {
   "cell_type": "code",
   "execution_count": 109,
   "id": "33d8fb83",
   "metadata": {},
   "outputs": [],
   "source": [
    "data = pd.read_csv('../stat/data_q11.csv')"
   ]
  },
  {
   "cell_type": "code",
   "execution_count": 110,
   "id": "88cf02cb",
   "metadata": {},
   "outputs": [
    {
     "data": {
      "text/html": [
       "<div>\n",
       "<style scoped>\n",
       "    .dataframe tbody tr th:only-of-type {\n",
       "        vertical-align: middle;\n",
       "    }\n",
       "\n",
       "    .dataframe tbody tr th {\n",
       "        vertical-align: top;\n",
       "    }\n",
       "\n",
       "    .dataframe thead th {\n",
       "        text-align: right;\n",
       "    }\n",
       "</style>\n",
       "<table border=\"1\" class=\"dataframe\">\n",
       "  <thead>\n",
       "    <tr style=\"text-align: right;\">\n",
       "      <th></th>\n",
       "      <th>Patient ID</th>\n",
       "      <th>Blood Pressure Before (mmHg)</th>\n",
       "      <th>Blood Pressure After (mmHg)</th>\n",
       "    </tr>\n",
       "  </thead>\n",
       "  <tbody>\n",
       "    <tr>\n",
       "      <th>0</th>\n",
       "      <td>1</td>\n",
       "      <td>130</td>\n",
       "      <td>120</td>\n",
       "    </tr>\n",
       "    <tr>\n",
       "      <th>1</th>\n",
       "      <td>2</td>\n",
       "      <td>142</td>\n",
       "      <td>135</td>\n",
       "    </tr>\n",
       "    <tr>\n",
       "      <th>2</th>\n",
       "      <td>3</td>\n",
       "      <td>120</td>\n",
       "      <td>118</td>\n",
       "    </tr>\n",
       "    <tr>\n",
       "      <th>3</th>\n",
       "      <td>4</td>\n",
       "      <td>135</td>\n",
       "      <td>127</td>\n",
       "    </tr>\n",
       "    <tr>\n",
       "      <th>4</th>\n",
       "      <td>5</td>\n",
       "      <td>148</td>\n",
       "      <td>140</td>\n",
       "    </tr>\n",
       "    <tr>\n",
       "      <th>...</th>\n",
       "      <td>...</td>\n",
       "      <td>...</td>\n",
       "      <td>...</td>\n",
       "    </tr>\n",
       "    <tr>\n",
       "      <th>95</th>\n",
       "      <td>96</td>\n",
       "      <td>136</td>\n",
       "      <td>129</td>\n",
       "    </tr>\n",
       "    <tr>\n",
       "      <th>96</th>\n",
       "      <td>97</td>\n",
       "      <td>143</td>\n",
       "      <td>137</td>\n",
       "    </tr>\n",
       "    <tr>\n",
       "      <th>97</th>\n",
       "      <td>98</td>\n",
       "      <td>127</td>\n",
       "      <td>123</td>\n",
       "    </tr>\n",
       "    <tr>\n",
       "      <th>98</th>\n",
       "      <td>99</td>\n",
       "      <td>139</td>\n",
       "      <td>135</td>\n",
       "    </tr>\n",
       "    <tr>\n",
       "      <th>99</th>\n",
       "      <td>100</td>\n",
       "      <td>135</td>\n",
       "      <td>130</td>\n",
       "    </tr>\n",
       "  </tbody>\n",
       "</table>\n",
       "<p>100 rows × 3 columns</p>\n",
       "</div>"
      ],
      "text/plain": [
       "    Patient ID   Blood Pressure Before (mmHg)   Blood Pressure After (mmHg)\n",
       "0            1                            130                           120\n",
       "1            2                            142                           135\n",
       "2            3                            120                           118\n",
       "3            4                            135                           127\n",
       "4            5                            148                           140\n",
       "..         ...                            ...                           ...\n",
       "95          96                            136                           129\n",
       "96          97                            143                           137\n",
       "97          98                            127                           123\n",
       "98          99                            139                           135\n",
       "99         100                            135                           130\n",
       "\n",
       "[100 rows x 3 columns]"
      ]
     },
     "execution_count": 110,
     "metadata": {},
     "output_type": "execute_result"
    }
   ],
   "source": [
    "data"
   ]
  },
  {
   "cell_type": "code",
   "execution_count": 111,
   "id": "0679d301",
   "metadata": {},
   "outputs": [],
   "source": [
    "data.drop(columns=['Patient ID'],axis=1,inplace=True)"
   ]
  },
  {
   "cell_type": "markdown",
   "id": "5fd2e012",
   "metadata": {},
   "source": [
    "#### a. Check whether the distribution of all the classes are the same or not."
   ]
  },
  {
   "cell_type": "code",
   "execution_count": 112,
   "id": "447de0d1",
   "metadata": {},
   "outputs": [],
   "source": [
    "alpha = 0.05"
   ]
  },
  {
   "cell_type": "code",
   "execution_count": 113,
   "id": "2d098c7e",
   "metadata": {},
   "outputs": [
    {
     "name": "stdout",
     "output_type": "stream",
     "text": [
      "Kolmogorov-Smirnov Test Statistic: 0.36\n",
      "p-value: 3.751914289152195e-06\n",
      "Interpretation: There is significant diff between classes.\n"
     ]
    }
   ],
   "source": [
    "# Perform Kolmogorov-Smirnov test\n",
    "statistic, p_value = ks_2samp(data[' Blood Pressure Before (mmHg)'], data[' Blood Pressure After (mmHg)'])\n",
    "\n",
    "if p_value > alpha:\n",
    "    interpretation =\"There is no significant diff between classes.\"\n",
    "else:\n",
    "    interpretation =\"There is significant diff between classes.\"\n",
    "    \n",
    "print(\"Kolmogorov-Smirnov Test Statistic:\", statistic)\n",
    "print(\"p-value:\", p_value)\n",
    "print(\"Interpretation:\", interpretation)"
   ]
  },
  {
   "cell_type": "markdown",
   "id": "39aba928",
   "metadata": {},
   "source": [
    "#### b. Check for the equality of variance"
   ]
  },
  {
   "cell_type": "code",
   "execution_count": 114,
   "id": "03036bb0",
   "metadata": {},
   "outputs": [
    {
     "name": "stdout",
     "output_type": "stream",
     "text": [
      "Levene's test statistic: 0.18038002140150966\n",
      "p-value: 0.6715080090945376\n",
      "interpretation: variances are aprrox. equal among all classes.\n"
     ]
    }
   ],
   "source": [
    "from scipy.stats import levene\n",
    "\n",
    "# Perform Levene's test\n",
    "statistic, p_value = levene(data[' Blood Pressure Before (mmHg)'], data[' Blood Pressure After (mmHg)'])\n",
    "\n",
    "if p_value > alpha:\n",
    "    interpretation =\"variances are aprrox. equal among all classes.\"\n",
    "else:\n",
    "    interpretation =\"variances are significantly different among all classes\"\n",
    "\n",
    "print(\"Levene's test statistic:\", statistic)\n",
    "print(\"p-value:\", p_value)\n",
    "print(\"interpretation:\", interpretation)"
   ]
  },
  {
   "cell_type": "markdown",
   "id": "e3be868d",
   "metadata": {},
   "source": [
    "#### c. Which amount LDA and QDA would perform better on this data for classification and why."
   ]
  },
  {
   "cell_type": "markdown",
   "id": "f1875780",
   "metadata": {},
   "source": [
    "- To determine which classifier, Linear Discriminant Analysis (LDA) or Quadratic Discriminant Analysis (QDA), would perform better on the given data for classification, we need to consider their characteristics and the properties of the data.\n",
    "\n",
    "- LDA and QDA are both supervised classification techniques that assume Gaussian distributions for each class. However, they differ in their assumptions regarding the covariance matrices of the classes.\n",
    "\n",
    "- LDA assumes that the covariance matrices of all classes are equal, meaning they share the same covariance structure. It seeks to find a linear discriminant function that best separates the classes while maximizing the between-class variance and minimizing the within-class variance. LDA is particularly effective when the assumption of equal covariance matrices holds true, and the classes can be well separated by linear boundaries.\n",
    "\n",
    "- QDA, on the other hand, relaxes the assumption of equal covariance matrices and allows each class to have its own covariance structure. It seeks to find a quadratic discriminant function that separates the classes based on their individual covariance matrices. QDA is more flexible and can capture more complex decision boundaries, making it suitable when the classes have distinct covariance structures."
   ]
  },
  {
   "cell_type": "code",
   "execution_count": 115,
   "id": "0ccdfb10",
   "metadata": {},
   "outputs": [],
   "source": [
    "numerical_features = [' Blood Pressure Before (mmHg)',' Blood Pressure After (mmHg)']"
   ]
  },
  {
   "cell_type": "code",
   "execution_count": 116,
   "id": "a34a40bf",
   "metadata": {},
   "outputs": [
    {
     "data": {
      "image/png": "[encoded data removed]",
      "text/plain": [
       "<Figure size 720x720 with 2 Axes>"
      ]
     },
     "metadata": {
      "needs_background": "light"
     },
     "output_type": "display_data"
    }
   ],
   "source": [
    "# checking data distribution of numerical columns\n",
    "plt.figure(figsize=(10, 10))\n",
    "plt.suptitle('Data Distribution', fontsize=15, fontweight='bold', alpha=1.)\n",
    "\n",
    "for i in range(0, len(numerical_features)):\n",
    "    plt.subplot(3, 2, i+1)\n",
    "    sns.kdeplot(x=data[numerical_features[i]],shade=True, color='b')\n",
    "    plt.xlabel(numerical_features[i])\n",
    "    plt.tight_layout()"
   ]
  },
  {
   "cell_type": "raw",
   "id": "27027989",
   "metadata": {},
   "source": [
    "LDA and QDA are both supervised classification techniques that assume Gaussian distributions for each class. However, they differ in their assumptions regarding the covariance matrices of the classes."
   ]
  },
  {
   "cell_type": "code",
   "execution_count": 117,
   "id": "908f46e3",
   "metadata": {},
   "outputs": [
    {
     "data": {
      "text/html": [
       "<div>\n",
       "<style scoped>\n",
       "    .dataframe tbody tr th:only-of-type {\n",
       "        vertical-align: middle;\n",
       "    }\n",
       "\n",
       "    .dataframe tbody tr th {\n",
       "        vertical-align: top;\n",
       "    }\n",
       "\n",
       "    .dataframe thead th {\n",
       "        text-align: right;\n",
       "    }\n",
       "</style>\n",
       "<table border=\"1\" class=\"dataframe\">\n",
       "  <thead>\n",
       "    <tr style=\"text-align: right;\">\n",
       "      <th></th>\n",
       "      <th>Blood Pressure Before (mmHg)</th>\n",
       "      <th>Blood Pressure After (mmHg)</th>\n",
       "    </tr>\n",
       "  </thead>\n",
       "  <tbody>\n",
       "    <tr>\n",
       "      <th>Blood Pressure Before (mmHg)</th>\n",
       "      <td>43.537273</td>\n",
       "      <td>44.446869</td>\n",
       "    </tr>\n",
       "    <tr>\n",
       "      <th>Blood Pressure After (mmHg)</th>\n",
       "      <td>44.446869</td>\n",
       "      <td>47.444848</td>\n",
       "    </tr>\n",
       "  </tbody>\n",
       "</table>\n",
       "</div>"
      ],
      "text/plain": [
       "                                Blood Pressure Before (mmHg)  \\\n",
       " Blood Pressure Before (mmHg)                      43.537273   \n",
       " Blood Pressure After (mmHg)                       44.446869   \n",
       "\n",
       "                                Blood Pressure After (mmHg)  \n",
       " Blood Pressure Before (mmHg)                     44.446869  \n",
       " Blood Pressure After (mmHg)                      47.444848  "
      ]
     },
     "execution_count": 117,
     "metadata": {},
     "output_type": "execute_result"
    }
   ],
   "source": [
    "covariance = data[[' Blood Pressure Before (mmHg)', ' Blood Pressure After (mmHg)']].cov()\n",
    "covariance"
   ]
  },
  {
   "cell_type": "markdown",
   "id": "fdde81c3",
   "metadata": {},
   "source": [
    "- LDA assumes that the covariance matrices of all classes are equal, meaning they share the same covariance structure.\n",
    "- Since covariance are not ame QDA would perform better."
   ]
  },
  {
   "cell_type": "markdown",
   "id": "565c4be0",
   "metadata": {},
   "source": [
    "#### d. Check the equality of mean for between all the classes."
   ]
  },
  {
   "cell_type": "markdown",
   "id": "3ccd5c85",
   "metadata": {},
   "source": [
    "ANOVA is a statistical test that compares the means of two or more groups to determine if there are significant differences between them."
   ]
  },
  {
   "cell_type": "code",
   "execution_count": 118,
   "id": "c3f96623",
   "metadata": {},
   "outputs": [
    {
     "name": "stdout",
     "output_type": "stream",
     "text": [
      "F-statistic: 33.85555270599285\n",
      "p-value: 2.3565868442707578e-08\n"
     ]
    }
   ],
   "source": [
    "# Perform the ANOVA test\n",
    "statistic, p_value = stats.f_oneway(data[' Blood Pressure Before (mmHg)'], data[' Blood Pressure After (mmHg)'])\n",
    "\n",
    "# Print the results\n",
    "print(\"F-statistic:\", statistic)\n",
    "print(\"p-value:\", p_value)"
   ]
  },
  {
   "cell_type": "markdown",
   "id": "d2b26a71",
   "metadata": {},
   "source": [
    "-  In this case, the obtained F-statistic is 33.855, and the extremely small p-value of 2.35e-08 indicates that there is strong evidence to reject the null hypothesis. Therefore, there is a significant difference between the means of the \"Blood Pressure Before\" and \"Blood Pressure After\" groups.\n",
    "- In conclusion, based on the ANOVA results, there is a statistically significant difference in the mean blood pressure before and after."
   ]
  },
  {
   "cell_type": "markdown",
   "id": "6bb009d6",
   "metadata": {},
   "source": [
    "### 12.  A pharmaceutical company develops a new drug and wants to compare its effectiveness against a standard drug for treating a particular condition. They conduct a study with two groups: Group A receives the new drug, and Group B receives the standard drug. The company measures the improvement in a specific symptom for both groups after a 4-week treatment period.\n",
    "\n",
    "a. The company collects data from 30 patients in each group and calculates the mean improvement score and the standard deviation of improvement for each group. The mean improvement score for Group A is 2.5 with a standard deviation of 0.8, while the mean improvement score for Group B is 2.2 with a standard deviation of 0.6. Conduct a t-test to determine if there is a significant difference in the mean improvement scores between the two groups. Use a significance level of 0.05.\n",
    "\n",
    "b. Based on the t-test results, state whether the null hypothesis should be rejected or not. Provide a conclusion in the context of the study."
   ]
  },
  {
   "cell_type": "markdown",
   "id": "f4d6aa28",
   "metadata": {},
   "source": [
    "To determine if there is a significant difference in the mean improvement scores between Group A (new drug) and Group B (standard drug), we can conduct a t-test.\n",
    "\n",
    "a. T-Test:\n",
    "We will use an independent two-sample t-test, assuming unequal variances, to compare the means of the two groups."
   ]
  },
  {
   "cell_type": "code",
   "execution_count": 119,
   "id": "16401e54",
   "metadata": {},
   "outputs": [
    {
     "name": "stdout",
     "output_type": "stream",
     "text": [
      "T-Test Results:\n",
      "---------------\n",
      "t-statistic: 1.64\n",
      "p-value: 0.1062\n"
     ]
    }
   ],
   "source": [
    "\n",
    "# Define the sample statistics for Group A (new drug)\n",
    "mean_a = 2.5\n",
    "std_a = 0.8\n",
    "n_a = 30\n",
    "\n",
    "# Define the sample statistics for Group B (standard drug)\n",
    "mean_b = 2.2\n",
    "std_b = 0.6\n",
    "n_b = 30\n",
    "\n",
    "# Conduct the independent two-sample t-test\n",
    "t_stat, p_value = stats.ttest_ind_from_stats(mean_a, std_a, n_a, mean_b, std_b, n_b, equal_var=False)\n",
    "\n",
    "# Print the t-test results\n",
    "print(\"T-Test Results:\")\n",
    "print(\"---------------\")\n",
    "print(\"t-statistic: {:.2f}\".format(t_stat))\n",
    "print(\"p-value: {:.4f}\".format(p_value))"
   ]
  },
  {
   "cell_type": "markdown",
   "id": "a19daa30",
   "metadata": {},
   "source": [
    "b. Interpretation:\n",
    "Based on the t-test results with a significance level of 0.05:\n",
    "\n",
    "- The calculated t-statistic is the value that measures the difference between the two sample means relative to the variation within each group. The p-value represents the probability of observing the data if there were no true difference between the two groups.\n",
    "\n",
    "- In this case, assuming unequal variances, the t-statistic is calculated as 1.64 and the p-value is 0.1062.\n",
    "\n",
    "- Since the p-value (0.1062) is larger than the significance level of 0.05, we fail to reject the null hypothesis. This means that there is not sufficient evidence to conclude that there is a significant difference in the mean improvement scores between the two groups.\n",
    "\n",
    "Therefore, in the context of the study, based on the t-test results, we cannot conclude that the new drug is significantly more effective than the standard drug for treating the specific condition."
   ]
  },
  {
   "cell_type": "code",
   "execution_count": null,
   "id": "7b383c15",
   "metadata": {},
   "outputs": [],
   "source": []
  }
 ],
 "metadata": {
  "kernelspec": {
   "display_name": "Python 3 (ipykernel)",
   "language": "python",
   "name": "python3"
  },
  "language_info": {
   "codemirror_mode": {
    "name": "ipython",
    "version": 3
   },
   "file_extension": ".py",
   "mimetype": "text/x-python",
   "name": "python",
   "nbconvert_exporter": "python",
   "pygments_lexer": "ipython3",
   "version": "3.9.12"
  }
 },
 "nbformat": 4,
 "nbformat_minor": 5
}
